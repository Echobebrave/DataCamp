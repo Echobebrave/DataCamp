{
 "cells": [
  {
   "cell_type": "code",
   "execution_count": 2,
   "metadata": {},
   "outputs": [],
   "source": [
    "import warnings\n",
    "warnings.simplefilter('ignore')\n",
    "import seaborn as sns\n",
    "import numpy as np\n",
    "import pandas as pd\n",
    "import seaborn as sns\n",
    "import matplotlib.pyplot as plt\n",
    "from sklearn.linear_model import LinearRegression\n",
    "\n",
    "%matplotlib inline"
   ]
  },
  {
   "cell_type": "markdown",
   "metadata": {},
   "source": [
    "# Data Exploration"
   ]
  },
  {
   "cell_type": "code",
   "execution_count": 3,
   "metadata": {},
   "outputs": [
    {
     "data": {
      "text/html": [
       "<div>\n",
       "<style scoped>\n",
       "    .dataframe tbody tr th:only-of-type {\n",
       "        vertical-align: middle;\n",
       "    }\n",
       "\n",
       "    .dataframe tbody tr th {\n",
       "        vertical-align: top;\n",
       "    }\n",
       "\n",
       "    .dataframe thead th {\n",
       "        text-align: right;\n",
       "    }\n",
       "</style>\n",
       "<table border=\"1\" class=\"dataframe\">\n",
       "  <thead>\n",
       "    <tr style=\"text-align: right;\">\n",
       "      <th></th>\n",
       "      <th>COLLEGE</th>\n",
       "      <th>INCOME</th>\n",
       "      <th>OVERAGE</th>\n",
       "      <th>LEFTOVER</th>\n",
       "      <th>HOUSE</th>\n",
       "      <th>HANDSET_PRICE</th>\n",
       "      <th>OVER_15MINS_CALLS_PER_MONTH</th>\n",
       "      <th>AVERAGE_CALL_DURATION</th>\n",
       "      <th>REPORTED_SATISFACTION</th>\n",
       "      <th>REPORTED_USAGE_LEVEL</th>\n",
       "      <th>CONSIDERING_CHANGE_OF_PLAN</th>\n",
       "      <th>LEAVE</th>\n",
       "    </tr>\n",
       "  </thead>\n",
       "  <tbody>\n",
       "    <tr>\n",
       "      <th>0</th>\n",
       "      <td>zero</td>\n",
       "      <td>31953</td>\n",
       "      <td>0</td>\n",
       "      <td>6</td>\n",
       "      <td>313378</td>\n",
       "      <td>161</td>\n",
       "      <td>0</td>\n",
       "      <td>4</td>\n",
       "      <td>unsat</td>\n",
       "      <td>little</td>\n",
       "      <td>no</td>\n",
       "      <td>STAY</td>\n",
       "    </tr>\n",
       "    <tr>\n",
       "      <th>1</th>\n",
       "      <td>one</td>\n",
       "      <td>36147</td>\n",
       "      <td>0</td>\n",
       "      <td>13</td>\n",
       "      <td>800586</td>\n",
       "      <td>244</td>\n",
       "      <td>0</td>\n",
       "      <td>6</td>\n",
       "      <td>unsat</td>\n",
       "      <td>little</td>\n",
       "      <td>considering</td>\n",
       "      <td>STAY</td>\n",
       "    </tr>\n",
       "    <tr>\n",
       "      <th>2</th>\n",
       "      <td>one</td>\n",
       "      <td>27273</td>\n",
       "      <td>230</td>\n",
       "      <td>0</td>\n",
       "      <td>305049</td>\n",
       "      <td>201</td>\n",
       "      <td>16</td>\n",
       "      <td>15</td>\n",
       "      <td>unsat</td>\n",
       "      <td>very_little</td>\n",
       "      <td>perhaps</td>\n",
       "      <td>STAY</td>\n",
       "    </tr>\n",
       "    <tr>\n",
       "      <th>3</th>\n",
       "      <td>zero</td>\n",
       "      <td>120070</td>\n",
       "      <td>38</td>\n",
       "      <td>33</td>\n",
       "      <td>788235</td>\n",
       "      <td>780</td>\n",
       "      <td>3</td>\n",
       "      <td>2</td>\n",
       "      <td>unsat</td>\n",
       "      <td>very_high</td>\n",
       "      <td>considering</td>\n",
       "      <td>LEAVE</td>\n",
       "    </tr>\n",
       "    <tr>\n",
       "      <th>4</th>\n",
       "      <td>one</td>\n",
       "      <td>29215</td>\n",
       "      <td>208</td>\n",
       "      <td>85</td>\n",
       "      <td>224784</td>\n",
       "      <td>241</td>\n",
       "      <td>21</td>\n",
       "      <td>1</td>\n",
       "      <td>very_unsat</td>\n",
       "      <td>little</td>\n",
       "      <td>never_thought</td>\n",
       "      <td>STAY</td>\n",
       "    </tr>\n",
       "  </tbody>\n",
       "</table>\n",
       "</div>"
      ],
      "text/plain": [
       "  COLLEGE  INCOME  OVERAGE  LEFTOVER   HOUSE  HANDSET_PRICE  \\\n",
       "0    zero   31953        0         6  313378            161   \n",
       "1     one   36147        0        13  800586            244   \n",
       "2     one   27273      230         0  305049            201   \n",
       "3    zero  120070       38        33  788235            780   \n",
       "4     one   29215      208        85  224784            241   \n",
       "\n",
       "   OVER_15MINS_CALLS_PER_MONTH  AVERAGE_CALL_DURATION REPORTED_SATISFACTION  \\\n",
       "0                            0                      4                 unsat   \n",
       "1                            0                      6                 unsat   \n",
       "2                           16                     15                 unsat   \n",
       "3                            3                      2                 unsat   \n",
       "4                           21                      1            very_unsat   \n",
       "\n",
       "  REPORTED_USAGE_LEVEL CONSIDERING_CHANGE_OF_PLAN  LEAVE  \n",
       "0               little                         no   STAY  \n",
       "1               little                considering   STAY  \n",
       "2          very_little                    perhaps   STAY  \n",
       "3            very_high                considering  LEAVE  \n",
       "4               little              never_thought   STAY  "
      ]
     },
     "execution_count": 3,
     "metadata": {},
     "output_type": "execute_result"
    }
   ],
   "source": [
    "data = pd.read_csv('./churn.csv')\n",
    "data.head()"
   ]
  },
  {
   "cell_type": "code",
   "execution_count": 4,
   "metadata": {},
   "outputs": [
    {
     "data": {
      "text/html": [
       "<div>\n",
       "<style scoped>\n",
       "    .dataframe tbody tr th:only-of-type {\n",
       "        vertical-align: middle;\n",
       "    }\n",
       "\n",
       "    .dataframe tbody tr th {\n",
       "        vertical-align: top;\n",
       "    }\n",
       "\n",
       "    .dataframe thead th {\n",
       "        text-align: right;\n",
       "    }\n",
       "</style>\n",
       "<table border=\"1\" class=\"dataframe\">\n",
       "  <thead>\n",
       "    <tr style=\"text-align: right;\">\n",
       "      <th></th>\n",
       "      <th>INCOME</th>\n",
       "      <th>OVERAGE</th>\n",
       "      <th>LEFTOVER</th>\n",
       "      <th>HOUSE</th>\n",
       "      <th>HANDSET_PRICE</th>\n",
       "      <th>OVER_15MINS_CALLS_PER_MONTH</th>\n",
       "      <th>AVERAGE_CALL_DURATION</th>\n",
       "    </tr>\n",
       "  </thead>\n",
       "  <tbody>\n",
       "    <tr>\n",
       "      <th>count</th>\n",
       "      <td>20000.000000</td>\n",
       "      <td>20000.000000</td>\n",
       "      <td>20000.000000</td>\n",
       "      <td>20000.000000</td>\n",
       "      <td>20000.000000</td>\n",
       "      <td>20000.000000</td>\n",
       "      <td>20000.000000</td>\n",
       "    </tr>\n",
       "    <tr>\n",
       "      <th>mean</th>\n",
       "      <td>80281.447750</td>\n",
       "      <td>85.979550</td>\n",
       "      <td>23.898650</td>\n",
       "      <td>493155.264250</td>\n",
       "      <td>389.615100</td>\n",
       "      <td>8.000700</td>\n",
       "      <td>6.002250</td>\n",
       "    </tr>\n",
       "    <tr>\n",
       "      <th>std</th>\n",
       "      <td>41680.586319</td>\n",
       "      <td>85.992324</td>\n",
       "      <td>26.816645</td>\n",
       "      <td>252407.884692</td>\n",
       "      <td>213.820682</td>\n",
       "      <td>8.925418</td>\n",
       "      <td>4.402558</td>\n",
       "    </tr>\n",
       "    <tr>\n",
       "      <th>min</th>\n",
       "      <td>20007.000000</td>\n",
       "      <td>-2.000000</td>\n",
       "      <td>0.000000</td>\n",
       "      <td>150002.000000</td>\n",
       "      <td>130.000000</td>\n",
       "      <td>0.000000</td>\n",
       "      <td>1.000000</td>\n",
       "    </tr>\n",
       "    <tr>\n",
       "      <th>25%</th>\n",
       "      <td>42217.000000</td>\n",
       "      <td>0.000000</td>\n",
       "      <td>0.000000</td>\n",
       "      <td>263714.250000</td>\n",
       "      <td>219.000000</td>\n",
       "      <td>1.000000</td>\n",
       "      <td>2.000000</td>\n",
       "    </tr>\n",
       "    <tr>\n",
       "      <th>50%</th>\n",
       "      <td>75366.500000</td>\n",
       "      <td>59.000000</td>\n",
       "      <td>14.000000</td>\n",
       "      <td>452259.500000</td>\n",
       "      <td>326.000000</td>\n",
       "      <td>4.000000</td>\n",
       "      <td>5.000000</td>\n",
       "    </tr>\n",
       "    <tr>\n",
       "      <th>75%</th>\n",
       "      <td>115881.750000</td>\n",
       "      <td>179.000000</td>\n",
       "      <td>41.000000</td>\n",
       "      <td>702378.000000</td>\n",
       "      <td>533.250000</td>\n",
       "      <td>15.000000</td>\n",
       "      <td>10.000000</td>\n",
       "    </tr>\n",
       "    <tr>\n",
       "      <th>max</th>\n",
       "      <td>159983.000000</td>\n",
       "      <td>335.000000</td>\n",
       "      <td>89.000000</td>\n",
       "      <td>999996.000000</td>\n",
       "      <td>899.000000</td>\n",
       "      <td>29.000000</td>\n",
       "      <td>15.000000</td>\n",
       "    </tr>\n",
       "  </tbody>\n",
       "</table>\n",
       "</div>"
      ],
      "text/plain": [
       "              INCOME       OVERAGE      LEFTOVER          HOUSE  \\\n",
       "count   20000.000000  20000.000000  20000.000000   20000.000000   \n",
       "mean    80281.447750     85.979550     23.898650  493155.264250   \n",
       "std     41680.586319     85.992324     26.816645  252407.884692   \n",
       "min     20007.000000     -2.000000      0.000000  150002.000000   \n",
       "25%     42217.000000      0.000000      0.000000  263714.250000   \n",
       "50%     75366.500000     59.000000     14.000000  452259.500000   \n",
       "75%    115881.750000    179.000000     41.000000  702378.000000   \n",
       "max    159983.000000    335.000000     89.000000  999996.000000   \n",
       "\n",
       "       HANDSET_PRICE  OVER_15MINS_CALLS_PER_MONTH  AVERAGE_CALL_DURATION  \n",
       "count   20000.000000                 20000.000000           20000.000000  \n",
       "mean      389.615100                     8.000700               6.002250  \n",
       "std       213.820682                     8.925418               4.402558  \n",
       "min       130.000000                     0.000000               1.000000  \n",
       "25%       219.000000                     1.000000               2.000000  \n",
       "50%       326.000000                     4.000000               5.000000  \n",
       "75%       533.250000                    15.000000              10.000000  \n",
       "max       899.000000                    29.000000              15.000000  "
      ]
     },
     "execution_count": 4,
     "metadata": {},
     "output_type": "execute_result"
    }
   ],
   "source": [
    "data.describe()"
   ]
  },
  {
   "cell_type": "code",
   "execution_count": 5,
   "metadata": {},
   "outputs": [
    {
     "name": "stdout",
     "output_type": "stream",
     "text": [
      "<class 'pandas.core.frame.DataFrame'>\n",
      "RangeIndex: 20000 entries, 0 to 19999\n",
      "Data columns (total 12 columns):\n",
      "COLLEGE                        20000 non-null object\n",
      "INCOME                         20000 non-null int64\n",
      "OVERAGE                        20000 non-null int64\n",
      "LEFTOVER                       20000 non-null int64\n",
      "HOUSE                          20000 non-null int64\n",
      "HANDSET_PRICE                  20000 non-null int64\n",
      "OVER_15MINS_CALLS_PER_MONTH    20000 non-null int64\n",
      "AVERAGE_CALL_DURATION          20000 non-null int64\n",
      "REPORTED_SATISFACTION          20000 non-null object\n",
      "REPORTED_USAGE_LEVEL           20000 non-null object\n",
      "CONSIDERING_CHANGE_OF_PLAN     20000 non-null object\n",
      "LEAVE                          20000 non-null object\n",
      "dtypes: int64(7), object(5)\n",
      "memory usage: 1.8+ MB\n"
     ]
    }
   ],
   "source": [
    "data.info()"
   ]
  },
  {
   "cell_type": "code",
   "execution_count": 6,
   "metadata": {},
   "outputs": [
    {
     "data": {
      "image/png": "[encoded data removed]",
      "text/plain": [
       "<Figure size 432x288 with 1 Axes>"
      ]
     },
     "metadata": {
      "needs_background": "light"
     },
     "output_type": "display_data"
    }
   ],
   "source": [
    "fig , ax = plt.subplots(figsize=(6,4))\n",
    "sns.countplot(x='LEAVE', data=data)\n",
    "plt.title(\"Count of Churn\")\n",
    "plt.show()"
   ]
  },
  {
   "cell_type": "code",
   "execution_count": 7,
   "metadata": {},
   "outputs": [
    {
     "name": "stdout",
     "output_type": "stream",
     "text": [
      "% of passanger survived in train dataset:  50.74\n",
      "% of passanger not survived in train dataset:  49.26\n"
     ]
    }
   ],
   "source": [
    "n=len(data)\n",
    "churn_0=len(data.LEAVE[data.LEAVE == 'STAY'])\n",
    "churn_1=len(data.LEAVE[data.LEAVE == 'LEAVE'])\n",
    "\n",
    "print(\"% of passanger survived in train dataset: \",churn_0*100/n)\n",
    "print(\"% of passanger not survived in train dataset: \",churn_1*100/n)"
   ]
  },
  {
   "cell_type": "markdown",
   "metadata": {},
   "source": [
    "##### The probability of Customer churn is 49.26%, which means it is not skewed. We don't have to be too sceptical about the model accuracy"
   ]
  },
  {
   "cell_type": "code",
   "execution_count": 8,
   "metadata": {},
   "outputs": [],
   "source": [
    "cat=['COLLEGE','REPORTED_SATISFACTION','REPORTED_USAGE_LEVEL','CONSIDERING_CHANGE_OF_PLAN']\n",
    "num=['INCOME','OVERAGE','LEFTOVER','HOUSE','HANDSET_PRICE','OVER_15MINS_CALLS_PER_MONTH','AVERAGE_CALL_DURATION']"
   ]
  },
  {
   "cell_type": "code",
   "execution_count": 9,
   "metadata": {},
   "outputs": [
    {
     "name": "stdout",
     "output_type": "stream",
     "text": [
      "                               INCOME   OVERAGE  LEFTOVER     HOUSE  \\\n",
      "INCOME                       1.000000  0.000458  0.006515 -0.010964   \n",
      "OVERAGE                      0.000458  1.000000 -0.003123  0.002412   \n",
      "LEFTOVER                     0.006515 -0.003123  1.000000  0.006530   \n",
      "HOUSE                       -0.010964  0.002412  0.006530  1.000000   \n",
      "HANDSET_PRICE                0.727200  0.000324  0.004004 -0.007756   \n",
      "OVER_15MINS_CALLS_PER_MONTH  0.002136  0.770557 -0.010411  0.007410   \n",
      "AVERAGE_CALL_DURATION       -0.007219  0.000653 -0.660285 -0.009359   \n",
      "\n",
      "                             HANDSET_PRICE  OVER_15MINS_CALLS_PER_MONTH  \\\n",
      "INCOME                            0.727200                     0.002136   \n",
      "OVERAGE                           0.000324                     0.770557   \n",
      "LEFTOVER                          0.004004                    -0.010411   \n",
      "HOUSE                            -0.007756                     0.007410   \n",
      "HANDSET_PRICE                     1.000000                     0.002680   \n",
      "OVER_15MINS_CALLS_PER_MONTH       0.002680                     1.000000   \n",
      "AVERAGE_CALL_DURATION            -0.005190                     0.007769   \n",
      "\n",
      "                             AVERAGE_CALL_DURATION  \n",
      "INCOME                                   -0.007219  \n",
      "OVERAGE                                   0.000653  \n",
      "LEFTOVER                                 -0.660285  \n",
      "HOUSE                                    -0.009359  \n",
      "HANDSET_PRICE                            -0.005190  \n",
      "OVER_15MINS_CALLS_PER_MONTH               0.007769  \n",
      "AVERAGE_CALL_DURATION                     1.000000  \n"
     ]
    }
   ],
   "source": [
    "corr_df=data[num]  #New dataframe to calculate correlation between numeric features\n",
    "cor= corr_df.corr(method='pearson')\n",
    "print(cor)"
   ]
  },
  {
   "cell_type": "code",
   "execution_count": 10,
   "metadata": {},
   "outputs": [
    {
     "data": {
      "image/png": "[encoded data removed]",
      "text/plain": [
       "<Figure size 576x432 with 2 Axes>"
      ]
     },
     "metadata": {
      "needs_background": "light"
     },
     "output_type": "display_data"
    }
   ],
   "source": [
    "fig, ax =plt.subplots(figsize=(8, 6))\n",
    "plt.title(\"Correlation Plot\")\n",
    "sns.heatmap(cor, mask=np.zeros_like(cor, dtype=np.bool), cmap=sns.diverging_palette(220, 10, as_cmap=True),\n",
    "            square=True, ax=ax)\n",
    "plt.show()"
   ]
  },
  {
   "cell_type": "markdown",
   "metadata": {},
   "source": [
    "##### There's a strong correlation between INCOME and HANDSET_PRICE, also between OVER_15MINS_CALLS_PER_MONTH and OVERAGE. \n",
    "I would like to drop HANDSET_PRICE and OVER_15MINS_CALLS_PER_MONTH to avoid colinearity "
   ]
  },
  {
   "cell_type": "code",
   "execution_count": 11,
   "metadata": {},
   "outputs": [
    {
     "name": "stdout",
     "output_type": "stream",
     "text": [
      "                         INCOME   OVERAGE  LEFTOVER     HOUSE  \\\n",
      "INCOME                 1.000000  0.000458  0.006515 -0.010964   \n",
      "OVERAGE                0.000458  1.000000 -0.003123  0.002412   \n",
      "LEFTOVER               0.006515 -0.003123  1.000000  0.006530   \n",
      "HOUSE                 -0.010964  0.002412  0.006530  1.000000   \n",
      "AVERAGE_CALL_DURATION -0.007219  0.000653 -0.660285 -0.009359   \n",
      "\n",
      "                       AVERAGE_CALL_DURATION  \n",
      "INCOME                             -0.007219  \n",
      "OVERAGE                             0.000653  \n",
      "LEFTOVER                           -0.660285  \n",
      "HOUSE                              -0.009359  \n",
      "AVERAGE_CALL_DURATION               1.000000  \n"
     ]
    }
   ],
   "source": [
    "num2=['INCOME','OVERAGE','LEFTOVER','HOUSE','AVERAGE_CALL_DURATION']\n",
    "corr_df=data[num2]  #New dataframe to calculate correlation between numeric features\n",
    "cor= corr_df.corr(method='pearson')\n",
    "print(cor)"
   ]
  },
  {
   "cell_type": "code",
   "execution_count": 12,
   "metadata": {},
   "outputs": [
    {
     "data": {
      "image/png": "[encoded data removed]",
      "text/plain": [
       "<Figure size 576x432 with 2 Axes>"
      ]
     },
     "metadata": {
      "needs_background": "light"
     },
     "output_type": "display_data"
    }
   ],
   "source": [
    "fig, ax =plt.subplots(figsize=(8, 6))\n",
    "plt.title(\"Correlation Plot\")\n",
    "sns.heatmap(cor, mask=np.zeros_like(cor, dtype=np.bool), cmap=sns.diverging_palette(220, 10, as_cmap=True),\n",
    "            square=True, ax=ax)\n",
    "plt.show()"
   ]
  },
  {
   "cell_type": "markdown",
   "metadata": {},
   "source": [
    "##### There's a mild negative correlation between AVERAGE_CALL_DURATION and LEFTOVER(-0.660285), but let's just select 0.7 as treshold and  keep them both."
   ]
  },
  {
   "cell_type": "markdown",
   "metadata": {},
   "source": [
    "##### Let's use chi-square test to understand relationship between categorical variables and target variable¶"
   ]
  },
  {
   "cell_type": "code",
   "execution_count": 13,
   "metadata": {},
   "outputs": [
    {
     "name": "stdout",
     "output_type": "stream",
     "text": [
      "P-value:  0.03931203735343504\n"
     ]
    }
   ],
   "source": [
    "from scipy.stats import chi2_contingency\n",
    "# cat=['COLLEGE','REPORTED_SATISFACTION','REPORTED_USAGE_LEVEL','CONSIDERING_CHANGE_OF_PLAN']\n",
    "csq=chi2_contingency(pd.crosstab(data['LEAVE'], data['COLLEGE']))\n",
    "print(\"P-value: \",csq[1])"
   ]
  },
  {
   "cell_type": "code",
   "execution_count": 14,
   "metadata": {},
   "outputs": [
    {
     "name": "stdout",
     "output_type": "stream",
     "text": [
      "P-value:  0.07536174824562034\n"
     ]
    }
   ],
   "source": [
    "csq2=chi2_contingency(pd.crosstab(data['LEAVE'], data['REPORTED_SATISFACTION']))\n",
    "print(\"P-value: \",csq2[1])"
   ]
  },
  {
   "cell_type": "code",
   "execution_count": 15,
   "metadata": {},
   "outputs": [
    {
     "name": "stdout",
     "output_type": "stream",
     "text": [
      "P-value:  0.898292889621597\n"
     ]
    }
   ],
   "source": [
    "csq3=chi2_contingency(pd.crosstab(data['LEAVE'], data['REPORTED_USAGE_LEVEL']))\n",
    "print(\"P-value: \",csq3[1])"
   ]
  },
  {
   "cell_type": "code",
   "execution_count": 16,
   "metadata": {},
   "outputs": [
    {
     "name": "stdout",
     "output_type": "stream",
     "text": [
      "P-value:  0.5076614385063292\n"
     ]
    }
   ],
   "source": [
    "csq4=chi2_contingency(pd.crosstab(data['LEAVE'], data['CONSIDERING_CHANGE_OF_PLAN']))\n",
    "print(\"P-value: \",csq4[1])"
   ]
  },
  {
   "cell_type": "markdown",
   "metadata": {},
   "source": [
    "##### Under the treshold P=0.1, P values for features REPORTED_USAGE_LEVEL and CONSIDERING_CHANGE_OF_PLAN are high. WIth that being said we can not reject our Null Hypothesis which is these features are independent and have no relationship with target variable. So we drop these two features."
   ]
  },
  {
   "cell_type": "markdown",
   "metadata": {},
   "source": [
    "##### First Let's check the impact of feature COLLEGE on Churn"
   ]
  },
  {
   "cell_type": "code",
   "execution_count": 36,
   "metadata": {},
   "outputs": [
    {
     "data": {
      "text/plain": [
       "Text(0.5, 1.0, 'Impact of COLLEGE on Churn')"
      ]
     },
     "execution_count": 36,
     "metadata": {},
     "output_type": "execute_result"
    },
    {
     "data": {
      "image/png": "[encoded data removed]",
      "text/plain": [
       "<Figure size 576x432 with 1 Axes>"
      ]
     },
     "metadata": {
      "needs_background": "light"
     },
     "output_type": "display_data"
    }
   ],
   "source": [
    "fig, ax=plt.subplots(figsize=(8,6))\n",
    "ax = sns.countplot(x=\"LEAVE\", data=data,hue='COLLEGE')\n",
    "plt.title(\"Impact of COLLEGE on Churn\")\n",
    "# plt.show()"
   ]
  },
  {
   "cell_type": "markdown",
   "metadata": {},
   "source": [
    "##### There is actually no big difference in churn rate between people who have a college degree or not, although the P-value < 0.05"
   ]
  },
  {
   "cell_type": "code",
   "execution_count": 18,
   "metadata": {},
   "outputs": [
    {
     "name": "stdout",
     "output_type": "stream",
     "text": [
      "COLLEGE                        0\n",
      "INCOME                         0\n",
      "OVERAGE                        0\n",
      "LEFTOVER                       0\n",
      "HOUSE                          0\n",
      "HANDSET_PRICE                  0\n",
      "OVER_15MINS_CALLS_PER_MONTH    0\n",
      "AVERAGE_CALL_DURATION          0\n",
      "REPORTED_SATISFACTION          0\n",
      "REPORTED_USAGE_LEVEL           0\n",
      "CONSIDERING_CHANGE_OF_PLAN     0\n",
      "LEAVE                          0\n",
      "dtype: int64\n"
     ]
    }
   ],
   "source": [
    "print(data.isnull().sum())# make sure we have null data"
   ]
  },
  {
   "cell_type": "markdown",
   "metadata": {},
   "source": [
    "# Data Preparation"
   ]
  },
  {
   "cell_type": "code",
   "execution_count": 21,
   "metadata": {},
   "outputs": [],
   "source": [
    "from sklearn import preprocessing\n",
    "from sklearn.preprocessing import StandardScaler\n",
    "\n",
    "scaler = StandardScaler()\n",
    "le = preprocessing.LabelEncoder()\n",
    "\n",
    "data.COLLEGE=le.fit_transform(data.COLLEGE)\n",
    "\n",
    "data.REPORTED_SATISFACTION=le.fit_transform(data.REPORTED_SATISFACTION)\n",
    "data.LEAVE[data.LEAVE == 'STAY'] = 0\n",
    "data.LEAVE[data.LEAVE == 'LEAVE'] = 1\n",
    "y = data['LEAVE'].values \n",
    "y=y.astype('str')\n",
    "X=data[['COLLEGE', 'INCOME', 'OVERAGE', 'LEFTOVER', 'HOUSE',\n",
    "       'AVERAGE_CALL_DURATION',\n",
    "       'REPORTED_SATISFACTION']]\n"
   ]
  },
  {
   "cell_type": "code",
   "execution_count": 22,
   "metadata": {},
   "outputs": [],
   "source": [
    "from sklearn.model_selection import train_test_split\n",
    "\n",
    "X_train, X_test, y_train, y_test = train_test_split(X,y,random_state=0)\n"
   ]
  },
  {
   "cell_type": "markdown",
   "metadata": {},
   "source": [
    "# Random Forest"
   ]
  },
  {
   "cell_type": "code",
   "execution_count": 23,
   "metadata": {},
   "outputs": [],
   "source": [
    "from sklearn.model_selection import GridSearchCV\n",
    "from sklearn.metrics import recall_score, accuracy_score"
   ]
  },
  {
   "cell_type": "code",
   "execution_count": 26,
   "metadata": {},
   "outputs": [],
   "source": [
    "from sklearn.ensemble import RandomForestClassifier\n",
    "rfc=RandomForestClassifier(random_state=0)"
   ]
  },
  {
   "cell_type": "code",
   "execution_count": 27,
   "metadata": {},
   "outputs": [
    {
     "data": {
      "text/plain": [
       "GridSearchCV(cv=5, error_score='raise-deprecating',\n",
       "       estimator=RandomForestClassifier(bootstrap=True, class_weight=None, criterion='gini',\n",
       "            max_depth=None, max_features='auto', max_leaf_nodes=None,\n",
       "            min_impurity_decrease=0.0, min_impurity_split=None,\n",
       "            min_samples_leaf=1, min_samples_split=2,\n",
       "            min_weight_fraction_leaf=0.0, n_estimators='warn', n_jobs=None,\n",
       "            oob_score=False, random_state=0, verbose=0, warm_start=False),\n",
       "       fit_params=None, iid='warn', n_jobs=None,\n",
       "       param_grid={'n_estimators': [200, 500], 'max_features': ['auto', 'sqrt', 'log2'], 'max_depth': [4, 5, 6, 7, 8], 'criterion': ['gini', 'entropy']},\n",
       "       pre_dispatch='2*n_jobs', refit=True, return_train_score='warn',\n",
       "       scoring=None, verbose=0)"
      ]
     },
     "execution_count": 27,
     "metadata": {},
     "output_type": "execute_result"
    }
   ],
   "source": [
    "param_grid = { \n",
    "    'n_estimators': [200, 500],\n",
    "    'max_features': ['auto', 'sqrt', 'log2'],\n",
    "    'max_depth' : [4,5,6,7,8],\n",
    "    'criterion' :['gini', 'entropy']\n",
    "}\n",
    "CV_rfc = GridSearchCV(estimator=rfc, param_grid=param_grid, cv= 5)\n",
    "CV_rfc.fit(X_train, y_train)\n"
   ]
  },
  {
   "cell_type": "code",
   "execution_count": 28,
   "metadata": {},
   "outputs": [
    {
     "data": {
      "text/plain": [
       "{'criterion': 'entropy',\n",
       " 'max_depth': 7,\n",
       " 'max_features': 'auto',\n",
       " 'n_estimators': 200}"
      ]
     },
     "execution_count": 28,
     "metadata": {},
     "output_type": "execute_result"
    }
   ],
   "source": [
    "CV_rfc.best_params_"
   ]
  },
  {
   "cell_type": "code",
   "execution_count": 29,
   "metadata": {},
   "outputs": [
    {
     "data": {
      "text/plain": [
       "0.7022666666666667"
      ]
     },
     "execution_count": 29,
     "metadata": {},
     "output_type": "execute_result"
    }
   ],
   "source": [
    "CV_rfc.best_score_"
   ]
  },
  {
   "cell_type": "code",
   "execution_count": 32,
   "metadata": {},
   "outputs": [
    {
     "name": "stdout",
     "output_type": "stream",
     "text": [
      "Accuracy for Random Forest on CV data:  0.7626\n"
     ]
    }
   ],
   "source": [
    "rfc1=RandomForestClassifier(random_state=0, max_features='auto', n_estimators= 200, max_depth=7, criterion='entropy')\n",
    "rfc1.fit(X_test,y_test)\n",
    "pred=rfc1.predict(X_test)\n",
    "print(\"Accuracy for Random Forest on CV data: \",accuracy_score(y_test,pred))\n"
   ]
  },
  {
   "cell_type": "code",
   "execution_count": 33,
   "metadata": {},
   "outputs": [
    {
     "data": {
      "text/plain": [
       "HOUSE                    0.337397\n",
       "OVERAGE                  0.292696\n",
       "INCOME                   0.183862\n",
       "LEFTOVER                 0.092444\n",
       "AVERAGE_CALL_DURATION    0.058345\n",
       "REPORTED_SATISFACTION    0.023254\n",
       "COLLEGE                  0.012002\n",
       "dtype: float64"
      ]
     },
     "execution_count": 33,
     "metadata": {},
     "output_type": "execute_result"
    }
   ],
   "source": [
    "labels=['COLLEGE', 'INCOME', 'OVERAGE', 'LEFTOVER', 'HOUSE',\n",
    "       'AVERAGE_CALL_DURATION',\n",
    "       'REPORTED_SATISFACTION']\n",
    "import pandas as pd\n",
    "feature_imp = pd.Series(rfc1.feature_importances_,index=labels).sort_values(ascending=False)\n",
    "feature_imp"
   ]
  },
  {
   "cell_type": "code",
   "execution_count": 34,
   "metadata": {},
   "outputs": [
    {
     "name": "stderr",
     "output_type": "stream",
     "text": [
      "No handles with labels found to put in legend.\n"
     ]
    },
    {
     "data": {
      "image/png": "[encoded data removed]",
      "text/plain": [
       "<Figure size 432x288 with 1 Axes>"
      ]
     },
     "metadata": {
      "needs_background": "light"
     },
     "output_type": "display_data"
    }
   ],
   "source": [
    "import matplotlib.pyplot as plt\n",
    "import seaborn as sns\n",
    "%matplotlib inline\n",
    "# Creating a bar plot\n",
    "sns.barplot(x=feature_imp, y=feature_imp.index)\n",
    "# Add labels to your graph\n",
    "plt.xlabel('Feature Importance Score')\n",
    "plt.ylabel('Features')\n",
    "plt.title(\"Visualizing Important Features\")\n",
    "plt.legend()\n",
    "plt.show()"
   ]
  },
  {
   "cell_type": "markdown",
   "metadata": {},
   "source": [
    "### To summrize: \n",
    "\n",
    "1.I did feature selection and eliminated unrelated features -HANDSET_PRICE, OVER_15MINS_CALLS_PER_MONTH, REPORTED_USAGE_LEVEL and CONSIDERING_CHANGE_OF_PLAN to get rid of data redundancy\n",
    "\n",
    "2.Trained and tuned a random forest model to classify the customers. This model has a 76.26% predicting accuracy.\n",
    "\n",
    "3.Overall interpretation: out of the 7 features we selected, HOUSE, OVERAGE and INCOME have the most predictive power, while COLLEGE and REPORTED_SATISFACTION has the least power.\n"
   ]
  },
  {
   "cell_type": "markdown",
   "metadata": {},
   "source": [
    "\n",
    "\n",
    "Other thinking:\n",
    "The model performance is good but not excellent, perhaps because the data is generated and doesn't fit the real industry. For example, in reality, we would assume CONSIDERING_CHANGE_OF_PLAN is a decent indicator for customer churn. However, there is not a strong relationship in our dataset."
   ]
  },
  {
   "cell_type": "markdown",
   "metadata": {},
   "source": [
    "# Playground"
   ]
  },
  {
   "cell_type": "markdown",
   "metadata": {},
   "source": [
    "##### I also built some other classification models just for fun :)\n",
    "They might not be runnable because I ran them before the finest model but I still want to display them just for reference"
   ]
  },
  {
   "cell_type": "markdown",
   "metadata": {},
   "source": [
    "# Decision Tree"
   ]
  },
  {
   "cell_type": "code",
   "execution_count": 106,
   "metadata": {},
   "outputs": [
    {
     "name": "stdout",
     "output_type": "stream",
     "text": [
      "depth = {'max_depth': 4} is selected using grid search\n",
      "Best CV score:  0.6994666666666667\n"
     ]
    }
   ],
   "source": [
    "from sklearn import tree\n",
    "\n",
    "\n",
    "tree_model.fit(X_train, y_train)\n",
    "\n",
    "\n",
    "param_grid = {'max_depth':range(1,7)}\n",
    "\n",
    "# Fitting K-NN to the Training set. Use p=2 for Euclidean distance. \n",
    "\n",
    "tree_model = tree.DecisionTreeClassifier()# instantiate KNeighborsClassifier\n",
    "\n",
    "# Use 5-fold cross validation to select best k\n",
    "# use 'recall' metric to evaluate your model \n",
    "\n",
    "cmodel = GridSearchCV(tree_model,param_grid,cv=5) # instantiate GridSearchCV\n",
    "cmodel.fit(X_train, y_train)\n",
    "\n",
    "best_d = cmodel.best_params_  \n",
    "print('depth = {} is selected using grid search'.format(best_d))\n",
    "\n",
    "# Fit a KNeighborsClassifier using the best parameters from grid search. Use p=2 for Euclidean distance\n",
    "tree_model = tree.DecisionTreeClassifier(max_depth=best_d['max_depth']) \n",
    "tree_model.fit(X_train, y_train.ravel())\n",
    "\n",
    "print('Best CV score: ',cmodel.best_score_)"
   ]
  },
  {
   "cell_type": "markdown",
   "metadata": {},
   "source": [
    "# KNN"
   ]
  },
  {
   "cell_type": "code",
   "execution_count": 109,
   "metadata": {},
   "outputs": [
    {
     "name": "stdout",
     "output_type": "stream",
     "text": [
      "k = {'n_neighbors': 28} is selected using grid search\n",
      "Best CV score:  0.6651333333333334\n"
     ]
    }
   ],
   "source": [
    "from sklearn.neighbors import KNeighborsClassifier\n",
    "# Define param_map for different values of k\n",
    "# Define param_map for different values of k\n",
    "param_grid = {'n_neighbors':range(20,40,2)}\n",
    "\n",
    "# Fitting K-NN to the Training set. Use p=2 for Euclidean distance. \n",
    "kNN = KNeighborsClassifier(p=2) # instantiate KNeighborsClassifier\n",
    "\n",
    "# Use 5-fold cross validation to select best k\n",
    "# use 'recall' metric to evaluate your model \n",
    "\n",
    "cmodel = GridSearchCV(kNN,param_grid,cv=5) # instantiate GridSearchCV\n",
    "cmodel.fit(X_train_std, y_train)\n",
    "\n",
    "best_k = cmodel.best_params_  # get the best k learned through grid search\n",
    "print('k = {} is selected using grid search'.format(best_k))\n",
    "\n",
    "print('Best CV score: ',cmodel.best_score_)"
   ]
  },
  {
   "cell_type": "markdown",
   "metadata": {},
   "source": [
    "#### Comparing the best cross validation score:\n",
    "    KNN    Decision Tree   Random Forest\n",
    "    0.665           0.6995          0.702\n"
   ]
  },
  {
   "cell_type": "markdown",
   "metadata": {},
   "source": [
    "The random forest model wins over the cross-validation "
   ]
  }
 ],
 "metadata": {
  "kernelspec": {
   "display_name": "Python 3",
   "language": "python",
   "name": "python3"
  },
  "language_info": {
   "codemirror_mode": {
    "name": "ipython",
    "version": 3
   },
   "file_extension": ".py",
   "mimetype": "text/x-python",
   "name": "python",
   "nbconvert_exporter": "python",
   "pygments_lexer": "ipython3",
   "version": "3.7.1"
  }
 },
 "nbformat": 4,
 "nbformat_minor": 2
}
